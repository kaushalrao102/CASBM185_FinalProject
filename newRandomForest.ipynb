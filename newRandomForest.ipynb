{
 "cells": [
  {
   "cell_type": "code",
   "execution_count": 1,
   "metadata": {},
   "outputs": [],
   "source": [
    "from sklearn.model_selection import train_test_split\n",
    "from sklearn.ensemble import RandomForestClassifier\n",
    "from sklearn.ensemble import RandomForestRegressor\n",
    "import seaborn as sn\n",
    "import numpy as np\n",
    "import pandas as pd\n",
    "# import packages"
   ]
  },
  {
   "cell_type": "code",
   "execution_count": 3,
   "metadata": {},
   "outputs": [
    {
     "data": {
      "text/plain": [
       "Index(['ICU', 'Age', 'Sex', 'Survival Probability', 'Score', 'Kidney', 'Blood',\n",
       "       'Cholesterol', 'Immune', 'ApacheII', 'Urine Volume', 'Creatinine',\n",
       "       'Urea', 'O2', 'HR', 'BP', 'RBC', 'LDL', 'HDL', 'Platelet', 'WBC', 'INR',\n",
       "       'Death'],\n",
       "      dtype='object')"
      ]
     },
     "execution_count": 3,
     "metadata": {},
     "output_type": "execute_result"
    }
   ],
   "source": [
    "sim_staticV1 = pd.read_csv(\"../Data/Static_Data_ICU_var1_peak.csv\")\n",
    "sim_staticV2 = pd.read_csv(\"../Data/Static_Data_ICU_var2_peak.csv\")\n",
    "sim_staticV3 = pd.read_csv(\"../Data/Static_Data_ICU_var3.csv\")\n",
    "sim_staticV4 = pd.read_csv(\"../Data/Static_Data_ICU_var4_peak_v2.csv\")\n",
    "\n",
    "sim_staticV1 = sim_staticV1.drop(columns=[\"Unnamed: 0\", \"CHM\"])\n",
    "sim_staticV1 = sim_staticV1.replace([\"M\", \"F\"], [0,1])\n",
    "\n",
    "sim_staticV2 = sim_staticV2.drop(columns=[\"Unnamed: 0\", \"CHM\"])\n",
    "sim_staticV2 = sim_staticV2.replace([\"M\", \"F\"], [0,1])\n",
    "\n",
    "sim_staticV3 = sim_staticV3.drop(columns=[\"Unnamed: 0\", \"CHM\"])\n",
    "sim_staticV3 = sim_staticV3.replace([\"M\", \"F\"], [0,1])\n",
    "\n",
    "\n",
    "sim_staticV4 = sim_staticV4.drop(columns=[\"Unnamed: 0\", \"CHM\"])\n",
    "sim_staticV4 = sim_staticV4.replace([\"M\", \"F\"], [0,1])\n",
    "\n",
    "\n",
    "# var2 dataset has higher variance in simulated values, so we would expect worse model performance\n",
    "# var3 dataset should have even higher variance\n",
    "\n",
    "sim_staticV1.columns\n",
    "\n",
    "# read in data and clean "
   ]
  },
  {
   "cell_type": "code",
   "execution_count": 4,
   "metadata": {},
   "outputs": [],
   "source": [
    "# Goal: predict death tag based on data\n",
    "x_train1, x_test1, y_train1, y_test1 = train_test_split(sim_staticV1.drop([\"ICU\",\"Death\",\"Survival Probability\", \"Score\", \"Kidney\", \"Blood\", \"Cholesterol\", \"Immune\"], axis = \"columns\"), sim_staticV1[\"Death\"], test_size = 0.34)\n",
    "\n",
    "x_train2, x_test2, y_train2, y_test2 = train_test_split(sim_staticV2.drop([\"ICU\",\"Death\",\"Survival Probability\"], axis = \"columns\"), sim_staticV2[\"Death\"], test_size = 0.34)\n",
    "\n",
    "x_train3, x_test3, y_train3, y_test3 = train_test_split(sim_staticV3.drop([\"ICU\",\"Death\",\"Survival_Probability\", \"Score\", \"Kidney\", \"Blood\", \"Cholesterol\", \"Immune\"], axis = \"columns\"), sim_staticV3[\"Death\"], test_size = 0.34)\n",
    "\n",
    "x_trainR1, x_testR1, y_trainR1, y_testR1 = train_test_split(sim_staticV1.drop([\"ICU\",\"Death\",\"Survival Probability\", \"Score\", \"Kidney\", \"Blood\", \"Cholesterol\", \"Immune\"], axis = \"columns\"), sim_staticV1[\"Survival Probability\"], test_size = 0.34)\n",
    "\n",
    "x_trainR2, x_testR2, y_trainR2, y_testR2 = train_test_split(sim_staticV2.drop([\"ICU\",\"Death\",\"Survival Probability\", \"Score\", \"Kidney\", \"Blood\", \"Cholesterol\", \"Immune\"], axis = \"columns\"), sim_staticV2[\"Survival Probability\"], test_size = 0.34)\n",
    "\n",
    "x_trainR3, x_testR3, y_trainR3, y_testR3 = train_test_split(sim_staticV3.drop([\"ICU\",\"Death\",\"Survival_Probability\", \"Score\", \"Kidney\", \"Blood\", \"Cholesterol\", \"Immune\"], axis = \"columns\"), sim_staticV3[\"Survival_Probability\"], test_size = 0.34)\n",
    "\n",
    "x_trainR4, x_testR4, y_trainR4, y_testR4 = train_test_split(sim_staticV4.drop([\"ICU\",\"Death\",\"Survival Probability\", \"Score\", \"Kidney\", \"Blood\", \"Cholesterol\", \"Immune\"], axis = \"columns\"), sim_staticV4[\"Survival Probability\"], test_size = 0.34)\n",
    "\n",
    "# creating train/test cohorts for model creation"
   ]
  },
  {
   "cell_type": "code",
   "execution_count": 5,
   "metadata": {},
   "outputs": [
    {
     "data": {
      "text/plain": [
       "RandomForestRegressor(bootstrap=True, ccp_alpha=0.0, criterion='mse',\n",
       "                      max_depth=None, max_features='auto', max_leaf_nodes=None,\n",
       "                      max_samples=None, min_impurity_decrease=0.0,\n",
       "                      min_impurity_split=None, min_samples_leaf=1,\n",
       "                      min_samples_split=2, min_weight_fraction_leaf=0.0,\n",
       "                      n_estimators=100, n_jobs=None, oob_score=False,\n",
       "                      random_state=None, verbose=0, warm_start=False)"
      ]
     },
     "execution_count": 5,
     "metadata": {},
     "output_type": "execute_result"
    }
   ],
   "source": [
    "len(x_train1) # 750 elements\n",
    "model_staticV1 = RandomForestClassifier(n_estimators = 100)\n",
    "model_staticV1.fit(x_train1, y_train1)\n",
    "\n",
    "model_staticV2 = RandomForestClassifier(n_estimators = 100)\n",
    "model_staticV2.fit(x_train2, y_train2)\n",
    "\n",
    "model_staticV3 = RandomForestClassifier(n_estimators=100)\n",
    "model_staticV3.fit(x_train3, y_train3)\n",
    "\n",
    "model_staticRegV1 = RandomForestRegressor(n_estimators=100)\n",
    "model_staticRegV1.fit(x_trainR1, y_trainR1)\n",
    "\n",
    "model_staticRegV2 = RandomForestRegressor(n_estimators=100)\n",
    "model_staticRegV2.fit(x_trainR2, y_trainR2)\n",
    "    \n",
    "model_staticRegV3 = RandomForestRegressor(n_estimators=100)\n",
    "model_staticRegV3.fit(x_trainR3, y_trainR3)\n",
    "\n",
    "model_staticRegV4 = RandomForestRegressor(n_estimators=100)\n",
    "model_staticRegV4.fit(x_trainR4, y_trainR4)\n",
    "\n",
    "# each random forest classifier will consist of 100 individual decision trees\n",
    "# fitting models "
   ]
  },
  {
   "cell_type": "code",
   "execution_count": 6,
   "metadata": {},
   "outputs": [
    {
     "data": {
      "text/plain": [
       "0.6941176470588235"
      ]
     },
     "execution_count": 6,
     "metadata": {},
     "output_type": "execute_result"
    }
   ],
   "source": [
    "model_staticV1.score(x_test1, y_test1) # model 1 score -- classifier"
   ]
  },
  {
   "cell_type": "code",
   "execution_count": 8,
   "metadata": {},
   "outputs": [
    {
     "data": {
      "text/plain": [
       "0.711764705882353"
      ]
     },
     "execution_count": 8,
     "metadata": {},
     "output_type": "execute_result"
    }
   ],
   "source": [
    "model_staticV2.score(x_test2, y_test2) # model 2 score -- classifier"
   ]
  },
  {
   "cell_type": "code",
   "execution_count": 9,
   "metadata": {},
   "outputs": [
    {
     "data": {
      "text/plain": [
       "0.6"
      ]
     },
     "execution_count": 9,
     "metadata": {},
     "output_type": "execute_result"
    }
   ],
   "source": [
    "model_staticV3.score(x_test3, y_test3) # model 3 score -- classifier"
   ]
  },
  {
   "cell_type": "code",
   "execution_count": 10,
   "metadata": {},
   "outputs": [
    {
     "data": {
      "text/plain": [
       "0.9063557346868618"
      ]
     },
     "execution_count": 10,
     "metadata": {},
     "output_type": "execute_result"
    }
   ],
   "source": [
    "model_staticRegV1.score(x_testR1, y_testR1) # model 1 score -- regressor"
   ]
  },
  {
   "cell_type": "code",
   "execution_count": 11,
   "metadata": {},
   "outputs": [
    {
     "data": {
      "text/plain": [
       "0.8110308474506552"
      ]
     },
     "execution_count": 11,
     "metadata": {},
     "output_type": "execute_result"
    }
   ],
   "source": [
    "model_staticRegV2.score(x_testR2, y_testR2) #model 2 score -- regressor"
   ]
  },
  {
   "cell_type": "code",
   "execution_count": 12,
   "metadata": {},
   "outputs": [
    {
     "data": {
      "text/plain": [
       "0.9999977217440688"
      ]
     },
     "execution_count": 12,
     "metadata": {},
     "output_type": "execute_result"
    }
   ],
   "source": [
    "model_staticRegV3.score(x_testR3, y_testR3) # zero var -- regressor score"
   ]
  },
  {
   "cell_type": "code",
   "execution_count": 13,
   "metadata": {},
   "outputs": [
    {
     "data": {
      "text/plain": [
       "0.6067730298266008"
      ]
     },
     "execution_count": 13,
     "metadata": {},
     "output_type": "execute_result"
    }
   ],
   "source": [
    "model_staticRegV4.score(x_testR4, y_testR4) #model 4 score -- regressor"
   ]
  },
  {
   "cell_type": "code",
   "execution_count": 15,
   "metadata": {},
   "outputs": [],
   "source": [
    "from sklearn.metrics import confusion_matrix\n",
    "from sklearn.metrics import roc_auc_score\n",
    "from sklearn.metrics import roc_curve\n",
    "from sklearn.metrics import auc\n",
    "#import packages"
   ]
  },
  {
   "cell_type": "code",
   "execution_count": 17,
   "metadata": {},
   "outputs": [],
   "source": [
    "y_predicted1 = model_staticV1.predict(x_test1)\n",
    "y_predicted2 = model_staticV2.predict(x_test2)\n",
    "y_predicted3 = model_staticV3.predict(x_test3)\n",
    "\n",
    "fpr1, tpr1, threshold1 = roc_curve(y_test1, y_predicted1)\n",
    "roc_auc1 = auc(fpr1, tpr1)\n",
    "\n",
    "fpr2, tpr2, threshold2 = roc_curve(y_test2, y_predicted2)\n",
    "roc_auc2 = auc(fpr2, tpr2)\n",
    "\n",
    "fpr3, tpr3, threshold3 = roc_curve(y_test3, y_predicted3)\n",
    "roc_auc3 = auc(fpr3, tpr3)\n",
    "\n",
    "cm_staticV1 = confusion_matrix(y_test1, y_predicted1)\n",
    "cm_staticV2 = confusion_matrix(y_test2, y_predicted2)\n",
    "cm_staticV3 = confusion_matrix(y_test3, y_predicted3)\n",
    "\n",
    "#create confusion matrices/account for auc-roc for classifier models"
   ]
  },
  {
   "cell_type": "code",
   "execution_count": 18,
   "metadata": {},
   "outputs": [
    {
     "data": {
      "image/png": "[encoded data removed]",
      "text/plain": [
       "<matplotlib.figure.Figure at 0x1a1e3574e0>"
      ]
     },
     "metadata": {},
     "output_type": "display_data"
    }
   ],
   "source": [
    "%matplotlib inline\n",
    "import matplotlib.pyplot as plt\n",
    "plt.figure(figsize = (10,7))\n",
    "sn.heatmap(cm_staticV1, annot=True)\n",
    "plt.xlabel(\"Predicted\")\n",
    "plt.ylabel(\"Truth\")\n",
    "plt.savefig(\"V1-Classification-Confusion.png\")\n",
    "\n",
    "# confusion matrix for v1"
   ]
  },
  {
   "cell_type": "code",
   "execution_count": 19,
   "metadata": {},
   "outputs": [
    {
     "data": {
      "image/png": "[encoded data removed]",
      "text/plain": [
       "<matplotlib.figure.Figure at 0x1a204c66a0>"
      ]
     },
     "metadata": {},
     "output_type": "display_data"
    }
   ],
   "source": [
    "plt.figure(figsize = (10,7))\n",
    "sn.heatmap(cm_staticV2, annot=True)\n",
    "plt.xlabel(\"Predicted\")\n",
    "plt.ylabel(\"Truth\")\n",
    "plt.savefig(\"V2-Classification-Confusion.png\")\n",
    "\n",
    "# confusion matrix for v2"
   ]
  },
  {
   "cell_type": "code",
   "execution_count": 20,
   "metadata": {},
   "outputs": [
    {
     "data": {
      "image/png": "[encoded data removed]",
      "text/plain": [
       "<matplotlib.figure.Figure at 0x1a2084a710>"
      ]
     },
     "metadata": {},
     "output_type": "display_data"
    }
   ],
   "source": [
    "plt.figure(figsize = (10,7))\n",
    "sn.heatmap(cm_staticV3, annot=True)\n",
    "plt.xlabel(\"Predicted\")\n",
    "plt.ylabel(\"Truth\")\n",
    "plt.savefig(\"V3-Classification-Confusion.png\")\n",
    "\n",
    "# confusion matrix for v3"
   ]
  },
  {
   "cell_type": "code",
   "execution_count": 21,
   "metadata": {},
   "outputs": [
    {
     "data": {
      "text/plain": [
       "0.5443423849825517"
      ]
     },
     "execution_count": 21,
     "metadata": {},
     "output_type": "execute_result"
    }
   ],
   "source": [
    "roc_auc_score(np.array(y_test1), np.array(y_predicted1)) "
   ]
  },
  {
   "cell_type": "code",
   "execution_count": 22,
   "metadata": {},
   "outputs": [
    {
     "data": {
      "text/plain": [
       "0.5669757520351748"
      ]
     },
     "execution_count": 22,
     "metadata": {},
     "output_type": "execute_result"
    }
   ],
   "source": [
    "roc_auc_score(np.array(y_test2), np.array(y_predicted2)) "
   ]
  },
  {
   "cell_type": "code",
   "execution_count": 23,
   "metadata": {},
   "outputs": [
    {
     "data": {
      "text/plain": [
       "0.4792464878671775"
      ]
     },
     "execution_count": 23,
     "metadata": {},
     "output_type": "execute_result"
    }
   ],
   "source": [
    "roc_auc_score(np.array(y_test3), np.array(y_predicted3)) "
   ]
  },
  {
   "cell_type": "code",
   "execution_count": 24,
   "metadata": {},
   "outputs": [
    {
     "data": {
      "image/png": "[encoded data removed]",
      "text/plain": [
       "<matplotlib.figure.Figure at 0x1a208b4dd8>"
      ]
     },
     "metadata": {},
     "output_type": "display_data"
    }
   ],
   "source": [
    "plt.title('Receiver Operating Characteristic - V1')\n",
    "plt.plot(fpr1, tpr1, 'b', label = 'AUC = %0.2f' % roc_auc1)\n",
    "plt.legend(loc = 'lower right')\n",
    "plt.plot([0, 1], [0, 1],'r--')\n",
    "plt.xlim([0, 1])\n",
    "plt.ylim([0, 1])\n",
    "plt.ylabel('True Positive Rate')\n",
    "plt.xlabel('False Positive Rate')\n",
    "plt.savefig(\"V1-Classification-ROC.png\")\n",
    "plt.show()\n",
    "\n",
    "\n",
    "# ROC Curve for v1"
   ]
  },
  {
   "cell_type": "code",
   "execution_count": 25,
   "metadata": {},
   "outputs": [
    {
     "data": {
      "image/png": "[encoded data removed]",
      "text/plain": [
       "<matplotlib.figure.Figure at 0x1a1e4f0ac8>"
      ]
     },
     "metadata": {},
     "output_type": "display_data"
    }
   ],
   "source": [
    "plt.title('Receiver Operating Characteristic - V2')\n",
    "plt.plot(fpr2, tpr2, 'b', label = 'AUC = %0.2f' % roc_auc2)\n",
    "plt.legend(loc = 'lower right')\n",
    "plt.plot([0, 1], [0, 1],'r--')\n",
    "plt.xlim([0, 1])\n",
    "plt.ylim([0, 1])\n",
    "plt.ylabel('True Positive Rate')\n",
    "plt.xlabel('False Positive Rate')\n",
    "plt.savefig(\"V2-Classification-ROC.png\")\n",
    "plt.show()\n",
    "\n",
    "\n",
    "# ROC Curve for v2"
   ]
  },
  {
   "cell_type": "code",
   "execution_count": 26,
   "metadata": {},
   "outputs": [
    {
     "data": {
      "image/png": "[encoded data removed]",
      "text/plain": [
       "<matplotlib.figure.Figure at 0x1a1e65c780>"
      ]
     },
     "metadata": {},
     "output_type": "display_data"
    }
   ],
   "source": [
    "plt.title('Receiver Operating Characteristic - V3')\n",
    "plt.plot(fpr3, tpr3, 'b', label = 'AUC = %0.2f' % roc_auc3)\n",
    "plt.legend(loc = 'lower right')\n",
    "plt.plot([0, 1], [0, 1],'r--')\n",
    "plt.xlim([0, 1])\n",
    "plt.ylim([0, 1])\n",
    "plt.ylabel('True Positive Rate')\n",
    "plt.xlabel('False Positive Rate')\n",
    "plt.savefig(\"V3-Classification-ROC.png\")\n",
    "plt.show()\n",
    "\n",
    "# ROC Curve for v3"
   ]
  },
  {
   "cell_type": "code",
   "execution_count": 32,
   "metadata": {},
   "outputs": [],
   "source": [
    "y_predictedR1 = model_staticRegV1.predict(x_testR1)\n",
    "y_predictedR2 = model_staticRegV2.predict(x_testR2)\n",
    "y_predictedR3 = model_staticRegV3.predict(x_testR3)\n",
    "y_predictedR4 = model_staticRegV4.predict(x_testR4)\n",
    "\n",
    "# get predicted mortality rates"
   ]
  },
  {
   "cell_type": "code",
   "execution_count": 30,
   "metadata": {},
   "outputs": [
    {
     "data": {
      "image/png": "[encoded data removed]",
      "text/plain": [
       "<matplotlib.figure.Figure at 0x1a1e460048>"
      ]
     },
     "metadata": {},
     "output_type": "display_data"
    }
   ],
   "source": [
    "import matplotlib.lines as mlines\n",
    "plt.title('True vs. Predicted Data - Regression on V3')\n",
    "plt.scatter(y_testR3, y_predictedR3)\n",
    "line = mlines.Line2D([0, 1], [0, 1], color='red')\n",
    "plt.plot([0, 1], [0, 1],'r-')\n",
    "plt.xlim([0, 1])\n",
    "plt.ylim([0, 1])\n",
    "plt.savefig(\"V3-Regression-Comparison.png\")\n",
    "plt.show()\n",
    "\n",
    "# plot true vs predicted data (want to see a y=x correlation)\n"
   ]
  },
  {
   "cell_type": "code",
   "execution_count": 28,
   "metadata": {},
   "outputs": [
    {
     "data": {
      "image/png": "[encoded data removed]",
      "text/plain": [
       "<matplotlib.figure.Figure at 0x1a1f52c550>"
      ]
     },
     "metadata": {},
     "output_type": "display_data"
    }
   ],
   "source": [
    "import matplotlib.lines as mlines\n",
    "plt.title('True vs. Predicted Data - Regression on V1')\n",
    "plt.scatter(y_testR1, y_predictedR1)\n",
    "line = mlines.Line2D([0, 1], [0, 1], color='red')\n",
    "plt.plot([0, 1], [0, 1],'r-')\n",
    "plt.xlim([0, 1])\n",
    "plt.ylim([0, 1])\n",
    "plt.savefig(\"V1-Regression-Comparison.png\")\n",
    "plt.show()\n",
    "\n",
    "# plot true vs predicted data (want to see a y=x correlation)"
   ]
  },
  {
   "cell_type": "code",
   "execution_count": 31,
   "metadata": {},
   "outputs": [
    {
     "data": {
      "image/png": "[encoded data removed]",
      "text/plain": [
       "<matplotlib.figure.Figure at 0x1a1ff0b748>"
      ]
     },
     "metadata": {},
     "output_type": "display_data"
    }
   ],
   "source": [
    "import matplotlib.lines as mlines\n",
    "plt.title('True vs. Predicted Data - Regression on V2')\n",
    "plt.scatter(y_testR2, y_predictedR2)\n",
    "line = mlines.Line2D([0, 1], [0, 1], color='red')\n",
    "plt.plot([0, 1], [0, 1],'r-')\n",
    "plt.xlim([0, 1])\n",
    "plt.ylim([0, 1])\n",
    "plt.savefig(\"V2-Regression-Comparison.png\")\n",
    "plt.show()\n",
    "# plot true vs predicted data (want to see a y=x correlation)"
   ]
  },
  {
   "cell_type": "code",
   "execution_count": 33,
   "metadata": {},
   "outputs": [
    {
     "data": {
      "image/png": "[encoded data removed]",
      "text/plain": [
       "<matplotlib.figure.Figure at 0x1a2000e4a8>"
      ]
     },
     "metadata": {},
     "output_type": "display_data"
    }
   ],
   "source": [
    "import matplotlib.lines as mlines\n",
    "plt.title('True vs. Predicted Data - Regression on V4')\n",
    "plt.scatter(y_testR4, y_predictedR4)\n",
    "line = mlines.Line2D([0, 1], [0, 1], color='red')\n",
    "plt.plot([0, 1], [0, 1],'r-')\n",
    "plt.xlim([0, 1])\n",
    "plt.ylim([0, 1])\n",
    "plt.savefig(\"V4-Regression-Comparison.png\")\n",
    "plt.show()\n",
    "# plot true vs predicted data (want to see a y=x correlation)"
   ]
  },
  {
   "cell_type": "code",
   "execution_count": 34,
   "metadata": {},
   "outputs": [
    {
     "data": {
      "text/html": [
       "<div>\n",
       "<style scoped>\n",
       "    .dataframe tbody tr th:only-of-type {\n",
       "        vertical-align: middle;\n",
       "    }\n",
       "\n",
       "    .dataframe tbody tr th {\n",
       "        vertical-align: top;\n",
       "    }\n",
       "\n",
       "    .dataframe thead th {\n",
       "        text-align: right;\n",
       "    }\n",
       "</style>\n",
       "<table border=\"1\" class=\"dataframe\">\n",
       "  <thead>\n",
       "    <tr style=\"text-align: right;\">\n",
       "      <th></th>\n",
       "      <th>importance</th>\n",
       "    </tr>\n",
       "  </thead>\n",
       "  <tbody>\n",
       "    <tr>\n",
       "      <th>Age</th>\n",
       "      <td>0.841161</td>\n",
       "    </tr>\n",
       "    <tr>\n",
       "      <th>LDL</th>\n",
       "      <td>0.021640</td>\n",
       "    </tr>\n",
       "    <tr>\n",
       "      <th>ApacheII</th>\n",
       "      <td>0.019973</td>\n",
       "    </tr>\n",
       "    <tr>\n",
       "      <th>INR</th>\n",
       "      <td>0.019116</td>\n",
       "    </tr>\n",
       "    <tr>\n",
       "      <th>O2</th>\n",
       "      <td>0.018721</td>\n",
       "    </tr>\n",
       "    <tr>\n",
       "      <th>Platelet</th>\n",
       "      <td>0.012787</td>\n",
       "    </tr>\n",
       "    <tr>\n",
       "      <th>WBC</th>\n",
       "      <td>0.012047</td>\n",
       "    </tr>\n",
       "    <tr>\n",
       "      <th>Urea</th>\n",
       "      <td>0.010298</td>\n",
       "    </tr>\n",
       "    <tr>\n",
       "      <th>HR</th>\n",
       "      <td>0.008655</td>\n",
       "    </tr>\n",
       "    <tr>\n",
       "      <th>Creatinine</th>\n",
       "      <td>0.008087</td>\n",
       "    </tr>\n",
       "    <tr>\n",
       "      <th>BP</th>\n",
       "      <td>0.007304</td>\n",
       "    </tr>\n",
       "    <tr>\n",
       "      <th>Urine Volume</th>\n",
       "      <td>0.007186</td>\n",
       "    </tr>\n",
       "    <tr>\n",
       "      <th>RBC</th>\n",
       "      <td>0.006196</td>\n",
       "    </tr>\n",
       "    <tr>\n",
       "      <th>HDL</th>\n",
       "      <td>0.006084</td>\n",
       "    </tr>\n",
       "    <tr>\n",
       "      <th>Sex</th>\n",
       "      <td>0.000746</td>\n",
       "    </tr>\n",
       "  </tbody>\n",
       "</table>\n",
       "</div>"
      ],
      "text/plain": [
       "              importance\n",
       "Age             0.841161\n",
       "LDL             0.021640\n",
       "ApacheII        0.019973\n",
       "INR             0.019116\n",
       "O2              0.018721\n",
       "Platelet        0.012787\n",
       "WBC             0.012047\n",
       "Urea            0.010298\n",
       "HR              0.008655\n",
       "Creatinine      0.008087\n",
       "BP              0.007304\n",
       "Urine Volume    0.007186\n",
       "RBC             0.006196\n",
       "HDL             0.006084\n",
       "Sex             0.000746"
      ]
     },
     "execution_count": 34,
     "metadata": {},
     "output_type": "execute_result"
    }
   ],
   "source": [
    "RV1_feature_importances = pd.DataFrame(model_staticRegV1.feature_importances_,\n",
    "                                   index = x_trainR1.columns,\n",
    "                                    columns=['importance']).sort_values('importance', ascending=False)\n",
    "RV1_feature_importances\n",
    "# determine feature importance by Gini Index "
   ]
  },
  {
   "cell_type": "code",
   "execution_count": 35,
   "metadata": {},
   "outputs": [
    {
     "data": {
      "text/html": [
       "<div>\n",
       "<style scoped>\n",
       "    .dataframe tbody tr th:only-of-type {\n",
       "        vertical-align: middle;\n",
       "    }\n",
       "\n",
       "    .dataframe tbody tr th {\n",
       "        vertical-align: top;\n",
       "    }\n",
       "\n",
       "    .dataframe thead th {\n",
       "        text-align: right;\n",
       "    }\n",
       "</style>\n",
       "<table border=\"1\" class=\"dataframe\">\n",
       "  <thead>\n",
       "    <tr style=\"text-align: right;\">\n",
       "      <th></th>\n",
       "      <th>importance</th>\n",
       "    </tr>\n",
       "  </thead>\n",
       "  <tbody>\n",
       "    <tr>\n",
       "      <th>Age</th>\n",
       "      <td>0.437993</td>\n",
       "    </tr>\n",
       "    <tr>\n",
       "      <th>LDL</th>\n",
       "      <td>0.158653</td>\n",
       "    </tr>\n",
       "    <tr>\n",
       "      <th>ApacheII</th>\n",
       "      <td>0.065933</td>\n",
       "    </tr>\n",
       "    <tr>\n",
       "      <th>O2</th>\n",
       "      <td>0.059537</td>\n",
       "    </tr>\n",
       "    <tr>\n",
       "      <th>INR</th>\n",
       "      <td>0.055722</td>\n",
       "    </tr>\n",
       "    <tr>\n",
       "      <th>Platelet</th>\n",
       "      <td>0.049788</td>\n",
       "    </tr>\n",
       "    <tr>\n",
       "      <th>HR</th>\n",
       "      <td>0.024476</td>\n",
       "    </tr>\n",
       "    <tr>\n",
       "      <th>BP</th>\n",
       "      <td>0.023758</td>\n",
       "    </tr>\n",
       "    <tr>\n",
       "      <th>Urea</th>\n",
       "      <td>0.023443</td>\n",
       "    </tr>\n",
       "    <tr>\n",
       "      <th>WBC</th>\n",
       "      <td>0.022986</td>\n",
       "    </tr>\n",
       "    <tr>\n",
       "      <th>Creatinine</th>\n",
       "      <td>0.020812</td>\n",
       "    </tr>\n",
       "    <tr>\n",
       "      <th>RBC</th>\n",
       "      <td>0.020112</td>\n",
       "    </tr>\n",
       "    <tr>\n",
       "      <th>Urine Volume</th>\n",
       "      <td>0.018004</td>\n",
       "    </tr>\n",
       "    <tr>\n",
       "      <th>HDL</th>\n",
       "      <td>0.017372</td>\n",
       "    </tr>\n",
       "    <tr>\n",
       "      <th>Sex</th>\n",
       "      <td>0.001411</td>\n",
       "    </tr>\n",
       "  </tbody>\n",
       "</table>\n",
       "</div>"
      ],
      "text/plain": [
       "              importance\n",
       "Age             0.437993\n",
       "LDL             0.158653\n",
       "ApacheII        0.065933\n",
       "O2              0.059537\n",
       "INR             0.055722\n",
       "Platelet        0.049788\n",
       "HR              0.024476\n",
       "BP              0.023758\n",
       "Urea            0.023443\n",
       "WBC             0.022986\n",
       "Creatinine      0.020812\n",
       "RBC             0.020112\n",
       "Urine Volume    0.018004\n",
       "HDL             0.017372\n",
       "Sex             0.001411"
      ]
     },
     "execution_count": 35,
     "metadata": {},
     "output_type": "execute_result"
    }
   ],
   "source": [
    "RV2_feature_importances = pd.DataFrame(model_staticRegV2.feature_importances_,\n",
    "                                   index = x_trainR2.columns,\n",
    "                                    columns=['importance']).sort_values('importance', ascending=False)\n",
    "RV2_feature_importances"
   ]
  },
  {
   "cell_type": "code",
   "execution_count": 36,
   "metadata": {},
   "outputs": [
    {
     "data": {
      "text/html": [
       "<div>\n",
       "<style scoped>\n",
       "    .dataframe tbody tr th:only-of-type {\n",
       "        vertical-align: middle;\n",
       "    }\n",
       "\n",
       "    .dataframe tbody tr th {\n",
       "        vertical-align: top;\n",
       "    }\n",
       "\n",
       "    .dataframe thead th {\n",
       "        text-align: right;\n",
       "    }\n",
       "</style>\n",
       "<table border=\"1\" class=\"dataframe\">\n",
       "  <thead>\n",
       "    <tr style=\"text-align: right;\">\n",
       "      <th></th>\n",
       "      <th>importance</th>\n",
       "    </tr>\n",
       "  </thead>\n",
       "  <tbody>\n",
       "    <tr>\n",
       "      <th>Age</th>\n",
       "      <td>0.279279</td>\n",
       "    </tr>\n",
       "    <tr>\n",
       "      <th>INR</th>\n",
       "      <td>0.254123</td>\n",
       "    </tr>\n",
       "    <tr>\n",
       "      <th>ApacheII</th>\n",
       "      <td>0.161562</td>\n",
       "    </tr>\n",
       "    <tr>\n",
       "      <th>O2</th>\n",
       "      <td>0.155819</td>\n",
       "    </tr>\n",
       "    <tr>\n",
       "      <th>LDL</th>\n",
       "      <td>0.149188</td>\n",
       "    </tr>\n",
       "    <tr>\n",
       "      <th>RBC</th>\n",
       "      <td>0.000030</td>\n",
       "    </tr>\n",
       "    <tr>\n",
       "      <th>Sex</th>\n",
       "      <td>0.000000</td>\n",
       "    </tr>\n",
       "    <tr>\n",
       "      <th>Urine_Volume</th>\n",
       "      <td>0.000000</td>\n",
       "    </tr>\n",
       "    <tr>\n",
       "      <th>Creatinine</th>\n",
       "      <td>0.000000</td>\n",
       "    </tr>\n",
       "    <tr>\n",
       "      <th>Urea</th>\n",
       "      <td>0.000000</td>\n",
       "    </tr>\n",
       "    <tr>\n",
       "      <th>HR</th>\n",
       "      <td>0.000000</td>\n",
       "    </tr>\n",
       "    <tr>\n",
       "      <th>BP</th>\n",
       "      <td>0.000000</td>\n",
       "    </tr>\n",
       "    <tr>\n",
       "      <th>HDL</th>\n",
       "      <td>0.000000</td>\n",
       "    </tr>\n",
       "    <tr>\n",
       "      <th>Platelet</th>\n",
       "      <td>0.000000</td>\n",
       "    </tr>\n",
       "    <tr>\n",
       "      <th>WBC</th>\n",
       "      <td>0.000000</td>\n",
       "    </tr>\n",
       "  </tbody>\n",
       "</table>\n",
       "</div>"
      ],
      "text/plain": [
       "              importance\n",
       "Age             0.279279\n",
       "INR             0.254123\n",
       "ApacheII        0.161562\n",
       "O2              0.155819\n",
       "LDL             0.149188\n",
       "RBC             0.000030\n",
       "Sex             0.000000\n",
       "Urine_Volume    0.000000\n",
       "Creatinine      0.000000\n",
       "Urea            0.000000\n",
       "HR              0.000000\n",
       "BP              0.000000\n",
       "HDL             0.000000\n",
       "Platelet        0.000000\n",
       "WBC             0.000000"
      ]
     },
     "execution_count": 36,
     "metadata": {},
     "output_type": "execute_result"
    }
   ],
   "source": [
    "RV3_feature_importances = pd.DataFrame(model_staticRegV3.feature_importances_,\n",
    "                                   index = x_trainR3.columns,\n",
    "                                    columns=['importance']).sort_values('importance', ascending=False)\n",
    "RV3_feature_importances"
   ]
  },
  {
   "cell_type": "code",
   "execution_count": 37,
   "metadata": {},
   "outputs": [
    {
     "data": {
      "text/html": [
       "<div>\n",
       "<style scoped>\n",
       "    .dataframe tbody tr th:only-of-type {\n",
       "        vertical-align: middle;\n",
       "    }\n",
       "\n",
       "    .dataframe tbody tr th {\n",
       "        vertical-align: top;\n",
       "    }\n",
       "\n",
       "    .dataframe thead th {\n",
       "        text-align: right;\n",
       "    }\n",
       "</style>\n",
       "<table border=\"1\" class=\"dataframe\">\n",
       "  <thead>\n",
       "    <tr style=\"text-align: right;\">\n",
       "      <th></th>\n",
       "      <th>importance</th>\n",
       "    </tr>\n",
       "  </thead>\n",
       "  <tbody>\n",
       "    <tr>\n",
       "      <th>O2</th>\n",
       "      <td>0.263807</td>\n",
       "    </tr>\n",
       "    <tr>\n",
       "      <th>LDL</th>\n",
       "      <td>0.137614</td>\n",
       "    </tr>\n",
       "    <tr>\n",
       "      <th>INR</th>\n",
       "      <td>0.131138</td>\n",
       "    </tr>\n",
       "    <tr>\n",
       "      <th>ApacheII</th>\n",
       "      <td>0.077696</td>\n",
       "    </tr>\n",
       "    <tr>\n",
       "      <th>Platelet</th>\n",
       "      <td>0.062474</td>\n",
       "    </tr>\n",
       "    <tr>\n",
       "      <th>Age</th>\n",
       "      <td>0.055301</td>\n",
       "    </tr>\n",
       "    <tr>\n",
       "      <th>RBC</th>\n",
       "      <td>0.038581</td>\n",
       "    </tr>\n",
       "    <tr>\n",
       "      <th>Urine Volume</th>\n",
       "      <td>0.037572</td>\n",
       "    </tr>\n",
       "    <tr>\n",
       "      <th>HR</th>\n",
       "      <td>0.037552</td>\n",
       "    </tr>\n",
       "    <tr>\n",
       "      <th>WBC</th>\n",
       "      <td>0.037226</td>\n",
       "    </tr>\n",
       "    <tr>\n",
       "      <th>HDL</th>\n",
       "      <td>0.032419</td>\n",
       "    </tr>\n",
       "    <tr>\n",
       "      <th>Creatinine</th>\n",
       "      <td>0.031905</td>\n",
       "    </tr>\n",
       "    <tr>\n",
       "      <th>BP</th>\n",
       "      <td>0.028356</td>\n",
       "    </tr>\n",
       "    <tr>\n",
       "      <th>Urea</th>\n",
       "      <td>0.025437</td>\n",
       "    </tr>\n",
       "    <tr>\n",
       "      <th>Sex</th>\n",
       "      <td>0.002924</td>\n",
       "    </tr>\n",
       "  </tbody>\n",
       "</table>\n",
       "</div>"
      ],
      "text/plain": [
       "              importance\n",
       "O2              0.263807\n",
       "LDL             0.137614\n",
       "INR             0.131138\n",
       "ApacheII        0.077696\n",
       "Platelet        0.062474\n",
       "Age             0.055301\n",
       "RBC             0.038581\n",
       "Urine Volume    0.037572\n",
       "HR              0.037552\n",
       "WBC             0.037226\n",
       "HDL             0.032419\n",
       "Creatinine      0.031905\n",
       "BP              0.028356\n",
       "Urea            0.025437\n",
       "Sex             0.002924"
      ]
     },
     "execution_count": 37,
     "metadata": {},
     "output_type": "execute_result"
    }
   ],
   "source": [
    "RV4_feature_importances = pd.DataFrame(model_staticRegV4.feature_importances_,\n",
    "                                   index = x_trainR4.columns,\n",
    "                                    columns=['importance']).sort_values('importance', ascending=False)\n",
    "RV4_feature_importances"
   ]
  },
  {
   "cell_type": "code",
   "execution_count": null,
   "metadata": {},
   "outputs": [],
   "source": []
  }
 ],
 "metadata": {
  "kernelspec": {
   "display_name": "Python 3",
   "language": "python",
   "name": "python3"
  },
  "language_info": {
   "codemirror_mode": {
    "name": "ipython",
    "version": 3
   },
   "file_extension": ".py",
   "mimetype": "text/x-python",
   "name": "python",
   "nbconvert_exporter": "python",
   "pygments_lexer": "ipython3",
   "version": "3.6.4"
  }
 },
 "nbformat": 4,
 "nbformat_minor": 2
}

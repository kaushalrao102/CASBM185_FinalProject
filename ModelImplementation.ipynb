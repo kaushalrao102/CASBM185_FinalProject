{
 "cells": [
  {
   "cell_type": "code",
   "execution_count": 1,
   "metadata": {},
   "outputs": [],
   "source": [
    "# Implementing random forest model using processed data "
   ]
  },
  {
   "cell_type": "code",
   "execution_count": 26,
   "metadata": {},
   "outputs": [],
   "source": [
    "import pandas as pd\n",
    "from sklearn.model_selection import train_test_split\n",
    "from sklearn.ensemble import RandomForestClassifier\n",
    "import seaborn as sn\n",
    "import numpy as np"
   ]
  },
  {
   "cell_type": "code",
   "execution_count": 3,
   "metadata": {},
   "outputs": [],
   "source": [
    "dataset = pd.read_csv(\"KNNImputedFeatureMat.csv\")\n",
    "\n",
    "# importing dataset, which includes imputed data points"
   ]
  },
  {
   "cell_type": "code",
   "execution_count": 4,
   "metadata": {},
   "outputs": [
    {
     "data": {
      "text/html": [
       "<div>\n",
       "<style scoped>\n",
       "    .dataframe tbody tr th:only-of-type {\n",
       "        vertical-align: middle;\n",
       "    }\n",
       "\n",
       "    .dataframe tbody tr th {\n",
       "        vertical-align: top;\n",
       "    }\n",
       "\n",
       "    .dataframe thead th {\n",
       "        text-align: right;\n",
       "    }\n",
       "</style>\n",
       "<table border=\"1\" class=\"dataframe\">\n",
       "  <thead>\n",
       "    <tr style=\"text-align: right;\">\n",
       "      <th></th>\n",
       "      <th>Unnamed: 0</th>\n",
       "      <th>SUBJECT_ID_x</th>\n",
       "      <th>HADM_ID</th>\n",
       "      <th>50817</th>\n",
       "      <th>50893</th>\n",
       "      <th>50904</th>\n",
       "      <th>50906</th>\n",
       "      <th>50907</th>\n",
       "      <th>50912</th>\n",
       "      <th>51006</th>\n",
       "      <th>...</th>\n",
       "      <th>CHARTTIME</th>\n",
       "      <th>diagnosis</th>\n",
       "      <th>procedure</th>\n",
       "      <th>deceased</th>\n",
       "      <th>ADMITTIME</th>\n",
       "      <th>DISCHTIME</th>\n",
       "      <th>DEATHTIME</th>\n",
       "      <th>ETHNICITY</th>\n",
       "      <th>HOSPITAL_EXPIRE_FLAG</th>\n",
       "      <th>HAS_CHARTEVENTS_DATA</th>\n",
       "    </tr>\n",
       "  </thead>\n",
       "  <tbody>\n",
       "    <tr>\n",
       "      <th>0</th>\n",
       "      <td>0</td>\n",
       "      <td>26151.0</td>\n",
       "      <td>198467.0</td>\n",
       "      <td>312.5</td>\n",
       "      <td>16.80</td>\n",
       "      <td>61.0</td>\n",
       "      <td>68.0</td>\n",
       "      <td>178.0</td>\n",
       "      <td>1.0</td>\n",
       "      <td>16.0</td>\n",
       "      <td>...</td>\n",
       "      <td>2172-03-14 11:00:00</td>\n",
       "      <td>V3000</td>\n",
       "      <td>9604.0</td>\n",
       "      <td>0</td>\n",
       "      <td>2172-03-14 01:15:00</td>\n",
       "      <td>2172-05-11 13:10:00</td>\n",
       "      <td>NaN</td>\n",
       "      <td>WHITE</td>\n",
       "      <td>0</td>\n",
       "      <td>1</td>\n",
       "    </tr>\n",
       "    <tr>\n",
       "      <th>1</th>\n",
       "      <td>1</td>\n",
       "      <td>26156.0</td>\n",
       "      <td>184187.0</td>\n",
       "      <td>76.0</td>\n",
       "      <td>16.60</td>\n",
       "      <td>64.0</td>\n",
       "      <td>68.0</td>\n",
       "      <td>179.5</td>\n",
       "      <td>1.7</td>\n",
       "      <td>94.0</td>\n",
       "      <td>...</td>\n",
       "      <td>2172-03-14 13:00:00</td>\n",
       "      <td>V3000</td>\n",
       "      <td>9604.0</td>\n",
       "      <td>0</td>\n",
       "      <td>2172-03-14 01:15:00</td>\n",
       "      <td>2172-05-11 13:10:00</td>\n",
       "      <td>NaN</td>\n",
       "      <td>WHITE</td>\n",
       "      <td>0</td>\n",
       "      <td>1</td>\n",
       "    </tr>\n",
       "    <tr>\n",
       "      <th>2</th>\n",
       "      <td>2</td>\n",
       "      <td>26159.0</td>\n",
       "      <td>181374.0</td>\n",
       "      <td>174.5</td>\n",
       "      <td>9.10</td>\n",
       "      <td>41.5</td>\n",
       "      <td>68.0</td>\n",
       "      <td>171.5</td>\n",
       "      <td>1.7</td>\n",
       "      <td>130.0</td>\n",
       "      <td>...</td>\n",
       "      <td>2172-03-14 15:00:00</td>\n",
       "      <td>V3000</td>\n",
       "      <td>9604.0</td>\n",
       "      <td>0</td>\n",
       "      <td>2172-03-14 01:15:00</td>\n",
       "      <td>2172-05-11 13:10:00</td>\n",
       "      <td>NaN</td>\n",
       "      <td>WHITE</td>\n",
       "      <td>0</td>\n",
       "      <td>1</td>\n",
       "    </tr>\n",
       "    <tr>\n",
       "      <th>3</th>\n",
       "      <td>3</td>\n",
       "      <td>26162.0</td>\n",
       "      <td>153433.0</td>\n",
       "      <td>145.0</td>\n",
       "      <td>12.00</td>\n",
       "      <td>56.0</td>\n",
       "      <td>68.0</td>\n",
       "      <td>157.5</td>\n",
       "      <td>0.8</td>\n",
       "      <td>13.0</td>\n",
       "      <td>...</td>\n",
       "      <td>2172-03-14 17:00:00</td>\n",
       "      <td>V3000</td>\n",
       "      <td>9604.0</td>\n",
       "      <td>0</td>\n",
       "      <td>2172-03-14 01:15:00</td>\n",
       "      <td>2172-05-11 13:10:00</td>\n",
       "      <td>NaN</td>\n",
       "      <td>WHITE</td>\n",
       "      <td>0</td>\n",
       "      <td>1</td>\n",
       "    </tr>\n",
       "    <tr>\n",
       "      <th>4</th>\n",
       "      <td>4</td>\n",
       "      <td>26168.0</td>\n",
       "      <td>195015.0</td>\n",
       "      <td>215.0</td>\n",
       "      <td>41.25</td>\n",
       "      <td>61.0</td>\n",
       "      <td>68.0</td>\n",
       "      <td>178.0</td>\n",
       "      <td>0.2</td>\n",
       "      <td>13.0</td>\n",
       "      <td>...</td>\n",
       "      <td>2172-03-14 19:00:00</td>\n",
       "      <td>V3000</td>\n",
       "      <td>9604.0</td>\n",
       "      <td>0</td>\n",
       "      <td>2172-03-14 01:15:00</td>\n",
       "      <td>2172-05-11 13:10:00</td>\n",
       "      <td>NaN</td>\n",
       "      <td>WHITE</td>\n",
       "      <td>0</td>\n",
       "      <td>1</td>\n",
       "    </tr>\n",
       "  </tbody>\n",
       "</table>\n",
       "<p>5 rows × 26 columns</p>\n",
       "</div>"
      ],
      "text/plain": [
       "   Unnamed: 0  SUBJECT_ID_x   HADM_ID  50817  50893  50904  50906  50907  \\\n",
       "0           0       26151.0  198467.0  312.5  16.80   61.0   68.0  178.0   \n",
       "1           1       26156.0  184187.0   76.0  16.60   64.0   68.0  179.5   \n",
       "2           2       26159.0  181374.0  174.5   9.10   41.5   68.0  171.5   \n",
       "3           3       26162.0  153433.0  145.0  12.00   56.0   68.0  157.5   \n",
       "4           4       26168.0  195015.0  215.0  41.25   61.0   68.0  178.0   \n",
       "\n",
       "   50912  51006  ...            CHARTTIME  diagnosis  procedure  deceased  \\\n",
       "0    1.0   16.0  ...  2172-03-14 11:00:00      V3000     9604.0         0   \n",
       "1    1.7   94.0  ...  2172-03-14 13:00:00      V3000     9604.0         0   \n",
       "2    1.7  130.0  ...  2172-03-14 15:00:00      V3000     9604.0         0   \n",
       "3    0.8   13.0  ...  2172-03-14 17:00:00      V3000     9604.0         0   \n",
       "4    0.2   13.0  ...  2172-03-14 19:00:00      V3000     9604.0         0   \n",
       "\n",
       "             ADMITTIME            DISCHTIME DEATHTIME ETHNICITY  \\\n",
       "0  2172-03-14 01:15:00  2172-05-11 13:10:00       NaN     WHITE   \n",
       "1  2172-03-14 01:15:00  2172-05-11 13:10:00       NaN     WHITE   \n",
       "2  2172-03-14 01:15:00  2172-05-11 13:10:00       NaN     WHITE   \n",
       "3  2172-03-14 01:15:00  2172-05-11 13:10:00       NaN     WHITE   \n",
       "4  2172-03-14 01:15:00  2172-05-11 13:10:00       NaN     WHITE   \n",
       "\n",
       "   HOSPITAL_EXPIRE_FLAG  HAS_CHARTEVENTS_DATA  \n",
       "0                     0                     1  \n",
       "1                     0                     1  \n",
       "2                     0                     1  \n",
       "3                     0                     1  \n",
       "4                     0                     1  \n",
       "\n",
       "[5 rows x 26 columns]"
      ]
     },
     "execution_count": 4,
     "metadata": {},
     "output_type": "execute_result"
    }
   ],
   "source": [
    "dataset.head()"
   ]
  },
  {
   "cell_type": "code",
   "execution_count": 5,
   "metadata": {},
   "outputs": [
    {
     "data": {
      "text/plain": [
       "Index(['Unnamed: 0', 'SUBJECT_ID_x', 'HADM_ID', '50817', '50893', '50904',\n",
       "       '50906', '50907', '50912', '51006', '51108', '51237', '51265', '51279',\n",
       "       '51300', 'Unnamed: 0_y', 'CHARTTIME', 'diagnosis', 'procedure',\n",
       "       'deceased', 'ADMITTIME', 'DISCHTIME', 'DEATHTIME', 'ETHNICITY',\n",
       "       'HOSPITAL_EXPIRE_FLAG', 'HAS_CHARTEVENTS_DATA'],\n",
       "      dtype='object')"
      ]
     },
     "execution_count": 5,
     "metadata": {},
     "output_type": "execute_result"
    }
   ],
   "source": [
    "dataset.columns "
   ]
  },
  {
   "cell_type": "code",
   "execution_count": 6,
   "metadata": {},
   "outputs": [],
   "source": [
    "dataset = dataset.drop(columns = [\"Unnamed: 0\", \"Unnamed: 0_y\", \"HOSPITAL_EXPIRE_FLAG\", \"HAS_CHARTEVENTS_DATA\", \"CHARTTIME\", \"ADMITTIME\", \"DISCHTIME\", \"DEATHTIME\"])\n",
    "# data selection"
   ]
  },
  {
   "cell_type": "code",
   "execution_count": 7,
   "metadata": {},
   "outputs": [
    {
     "data": {
      "text/html": [
       "<div>\n",
       "<style scoped>\n",
       "    .dataframe tbody tr th:only-of-type {\n",
       "        vertical-align: middle;\n",
       "    }\n",
       "\n",
       "    .dataframe tbody tr th {\n",
       "        vertical-align: top;\n",
       "    }\n",
       "\n",
       "    .dataframe thead th {\n",
       "        text-align: right;\n",
       "    }\n",
       "</style>\n",
       "<table border=\"1\" class=\"dataframe\">\n",
       "  <thead>\n",
       "    <tr style=\"text-align: right;\">\n",
       "      <th></th>\n",
       "      <th>SUBJECT_ID_x</th>\n",
       "      <th>HADM_ID</th>\n",
       "      <th>50817</th>\n",
       "      <th>50893</th>\n",
       "      <th>50904</th>\n",
       "      <th>50906</th>\n",
       "      <th>50907</th>\n",
       "      <th>50912</th>\n",
       "      <th>51006</th>\n",
       "      <th>51108</th>\n",
       "      <th>51237</th>\n",
       "      <th>51265</th>\n",
       "      <th>51279</th>\n",
       "      <th>51300</th>\n",
       "      <th>diagnosis</th>\n",
       "      <th>procedure</th>\n",
       "      <th>deceased</th>\n",
       "      <th>ETHNICITY</th>\n",
       "    </tr>\n",
       "  </thead>\n",
       "  <tbody>\n",
       "    <tr>\n",
       "      <th>0</th>\n",
       "      <td>26151.0</td>\n",
       "      <td>198467.0</td>\n",
       "      <td>312.5</td>\n",
       "      <td>16.80</td>\n",
       "      <td>61.0</td>\n",
       "      <td>68.0</td>\n",
       "      <td>178.0</td>\n",
       "      <td>1.0</td>\n",
       "      <td>16.0</td>\n",
       "      <td>1800.0</td>\n",
       "      <td>1.90</td>\n",
       "      <td>383.0</td>\n",
       "      <td>6.76</td>\n",
       "      <td>16.1</td>\n",
       "      <td>V3000</td>\n",
       "      <td>9604.0</td>\n",
       "      <td>0</td>\n",
       "      <td>WHITE</td>\n",
       "    </tr>\n",
       "    <tr>\n",
       "      <th>1</th>\n",
       "      <td>26156.0</td>\n",
       "      <td>184187.0</td>\n",
       "      <td>76.0</td>\n",
       "      <td>16.60</td>\n",
       "      <td>64.0</td>\n",
       "      <td>68.0</td>\n",
       "      <td>179.5</td>\n",
       "      <td>1.7</td>\n",
       "      <td>94.0</td>\n",
       "      <td>1800.0</td>\n",
       "      <td>4.10</td>\n",
       "      <td>210.0</td>\n",
       "      <td>3.87</td>\n",
       "      <td>16.1</td>\n",
       "      <td>V3000</td>\n",
       "      <td>9604.0</td>\n",
       "      <td>0</td>\n",
       "      <td>WHITE</td>\n",
       "    </tr>\n",
       "    <tr>\n",
       "      <th>2</th>\n",
       "      <td>26159.0</td>\n",
       "      <td>181374.0</td>\n",
       "      <td>174.5</td>\n",
       "      <td>9.10</td>\n",
       "      <td>41.5</td>\n",
       "      <td>68.0</td>\n",
       "      <td>171.5</td>\n",
       "      <td>1.7</td>\n",
       "      <td>130.0</td>\n",
       "      <td>1800.0</td>\n",
       "      <td>8.35</td>\n",
       "      <td>1228.0</td>\n",
       "      <td>3.98</td>\n",
       "      <td>16.1</td>\n",
       "      <td>V3000</td>\n",
       "      <td>9604.0</td>\n",
       "      <td>0</td>\n",
       "      <td>WHITE</td>\n",
       "    </tr>\n",
       "    <tr>\n",
       "      <th>3</th>\n",
       "      <td>26162.0</td>\n",
       "      <td>153433.0</td>\n",
       "      <td>145.0</td>\n",
       "      <td>12.00</td>\n",
       "      <td>56.0</td>\n",
       "      <td>68.0</td>\n",
       "      <td>157.5</td>\n",
       "      <td>0.8</td>\n",
       "      <td>13.0</td>\n",
       "      <td>1800.0</td>\n",
       "      <td>1.30</td>\n",
       "      <td>245.0</td>\n",
       "      <td>3.00</td>\n",
       "      <td>16.1</td>\n",
       "      <td>V3000</td>\n",
       "      <td>9604.0</td>\n",
       "      <td>0</td>\n",
       "      <td>WHITE</td>\n",
       "    </tr>\n",
       "    <tr>\n",
       "      <th>4</th>\n",
       "      <td>26168.0</td>\n",
       "      <td>195015.0</td>\n",
       "      <td>215.0</td>\n",
       "      <td>41.25</td>\n",
       "      <td>61.0</td>\n",
       "      <td>68.0</td>\n",
       "      <td>178.0</td>\n",
       "      <td>0.2</td>\n",
       "      <td>13.0</td>\n",
       "      <td>1800.0</td>\n",
       "      <td>3.95</td>\n",
       "      <td>472.0</td>\n",
       "      <td>4.10</td>\n",
       "      <td>16.1</td>\n",
       "      <td>V3000</td>\n",
       "      <td>9604.0</td>\n",
       "      <td>0</td>\n",
       "      <td>WHITE</td>\n",
       "    </tr>\n",
       "  </tbody>\n",
       "</table>\n",
       "</div>"
      ],
      "text/plain": [
       "   SUBJECT_ID_x   HADM_ID  50817  50893  50904  50906  50907  50912  51006  \\\n",
       "0       26151.0  198467.0  312.5  16.80   61.0   68.0  178.0    1.0   16.0   \n",
       "1       26156.0  184187.0   76.0  16.60   64.0   68.0  179.5    1.7   94.0   \n",
       "2       26159.0  181374.0  174.5   9.10   41.5   68.0  171.5    1.7  130.0   \n",
       "3       26162.0  153433.0  145.0  12.00   56.0   68.0  157.5    0.8   13.0   \n",
       "4       26168.0  195015.0  215.0  41.25   61.0   68.0  178.0    0.2   13.0   \n",
       "\n",
       "    51108  51237   51265  51279  51300 diagnosis  procedure  deceased  \\\n",
       "0  1800.0   1.90   383.0   6.76   16.1     V3000     9604.0         0   \n",
       "1  1800.0   4.10   210.0   3.87   16.1     V3000     9604.0         0   \n",
       "2  1800.0   8.35  1228.0   3.98   16.1     V3000     9604.0         0   \n",
       "3  1800.0   1.30   245.0   3.00   16.1     V3000     9604.0         0   \n",
       "4  1800.0   3.95   472.0   4.10   16.1     V3000     9604.0         0   \n",
       "\n",
       "  ETHNICITY  \n",
       "0     WHITE  \n",
       "1     WHITE  \n",
       "2     WHITE  \n",
       "3     WHITE  \n",
       "4     WHITE  "
      ]
     },
     "execution_count": 7,
     "metadata": {},
     "output_type": "execute_result"
    }
   ],
   "source": [
    "dataset.head()"
   ]
  },
  {
   "cell_type": "code",
   "execution_count": 17,
   "metadata": {},
   "outputs": [
    {
     "data": {
      "text/plain": [
       "array([0])"
      ]
     },
     "execution_count": 17,
     "metadata": {},
     "output_type": "execute_result"
    }
   ],
   "source": [
    "dataset[\"deceased\"].unique()"
   ]
  },
  {
   "cell_type": "code",
   "execution_count": 9,
   "metadata": {},
   "outputs": [],
   "source": [
    "x_train, x_test, y_train, y_test = train_test_split(dataset.drop([\"SUBJECT_ID_x\", \"HADM_ID\", \"diagnosis\", \"procedure\", \"deceased\", \"ETHNICITY\"], axis = \"columns\"), dataset[\"deceased\"], test_size = 0.25)\n",
    "\n",
    "# creating train/test cohorts for model creation\n",
    "\n"
   ]
  },
  {
   "cell_type": "code",
   "execution_count": 10,
   "metadata": {},
   "outputs": [
    {
     "data": {
      "text/plain": [
       "90"
      ]
     },
     "execution_count": 10,
     "metadata": {},
     "output_type": "execute_result"
    }
   ],
   "source": [
    "len(x_train)"
   ]
  },
  {
   "cell_type": "code",
   "execution_count": 11,
   "metadata": {},
   "outputs": [],
   "source": [
    "model = RandomForestClassifier()\n",
    "\n",
    "# creating random forest model"
   ]
  },
  {
   "cell_type": "code",
   "execution_count": 12,
   "metadata": {},
   "outputs": [
    {
     "name": "stderr",
     "output_type": "stream",
     "text": [
      "/Users/kaushalrao/anaconda3/lib/python3.7/site-packages/sklearn/ensemble/forest.py:246: FutureWarning: The default value of n_estimators will change from 10 in version 0.20 to 100 in 0.22.\n",
      "  \"10 in version 0.20 to 100 in 0.22.\", FutureWarning)\n"
     ]
    },
    {
     "data": {
      "text/plain": [
       "RandomForestClassifier(bootstrap=True, class_weight=None, criterion='gini',\n",
       "            max_depth=None, max_features='auto', max_leaf_nodes=None,\n",
       "            min_impurity_decrease=0.0, min_impurity_split=None,\n",
       "            min_samples_leaf=1, min_samples_split=2,\n",
       "            min_weight_fraction_leaf=0.0, n_estimators=10, n_jobs=None,\n",
       "            oob_score=False, random_state=None, verbose=0,\n",
       "            warm_start=False)"
      ]
     },
     "execution_count": 12,
     "metadata": {},
     "output_type": "execute_result"
    }
   ],
   "source": [
    "model.fit(x_train, y_train)"
   ]
  },
  {
   "cell_type": "code",
   "execution_count": 13,
   "metadata": {},
   "outputs": [
    {
     "data": {
      "text/plain": [
       "1.0"
      ]
     },
     "execution_count": 13,
     "metadata": {},
     "output_type": "execute_result"
    }
   ],
   "source": [
    "model.score(x_test, y_test)"
   ]
  },
  {
   "cell_type": "code",
   "execution_count": 14,
   "metadata": {},
   "outputs": [],
   "source": [
    "y_predicted = model.predict(x_test)"
   ]
  },
  {
   "cell_type": "code",
   "execution_count": 21,
   "metadata": {},
   "outputs": [],
   "source": [
    "from sklearn.metrics import confusion_matrix\n",
    "from sklearn.metrics import roc_auc_score"
   ]
  },
  {
   "cell_type": "code",
   "execution_count": 16,
   "metadata": {},
   "outputs": [
    {
     "data": {
      "text/plain": [
       "array([[31]])"
      ]
     },
     "execution_count": 16,
     "metadata": {},
     "output_type": "execute_result"
    }
   ],
   "source": [
    "cm = confusion_matrix(y_test, y_predicted)\n",
    "cm"
   ]
  },
  {
   "cell_type": "code",
   "execution_count": 20,
   "metadata": {},
   "outputs": [
    {
     "data": {
      "text/plain": [
       "Text(69.0, 0.5, 'Truth')"
      ]
     },
     "execution_count": 20,
     "metadata": {},
     "output_type": "execute_result"
    },
    {
     "data": {
      "image/png": "[encoded data removed]",
      "text/plain": [
       "<Figure size 720x504 with 2 Axes>"
      ]
     },
     "metadata": {
      "needs_background": "light"
     },
     "output_type": "display_data"
    }
   ],
   "source": [
    "%matplotlib inline\n",
    "import matplotlib.pyplot as plt\n",
    "plt.figure(figsize = (10,7))\n",
    "sn.heatmap(cm, annot=True)\n",
    "plt.xlabel(\"Predicted\")\n",
    "plt.ylabel(\"Truth\")"
   ]
  }
 ],
 "metadata": {
  "kernelspec": {
   "display_name": "Python 3",
   "language": "python",
   "name": "python3"
  },
  "language_info": {
   "codemirror_mode": {
    "name": "ipython",
    "version": 3
   },
   "file_extension": ".py",
   "mimetype": "text/x-python",
   "name": "python",
   "nbconvert_exporter": "python",
   "pygments_lexer": "ipython3",
   "version": "3.6.4"
  }
 },
 "nbformat": 4,
 "nbformat_minor": 2
}

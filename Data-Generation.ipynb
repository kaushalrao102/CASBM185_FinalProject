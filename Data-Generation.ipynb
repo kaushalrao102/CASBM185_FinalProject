{
 "cells": [
  {
   "cell_type": "code",
   "execution_count": null,
   "metadata": {},
   "outputs": [],
   "source": [
    "# CASB M185 - Wollman\n",
    "# Team Ocelot\n",
    "\n",
    "# Script for Querybuilder\n",
    "# Output : Chartevents_features.csv"
   ]
  },
  {
   "cell_type": "code",
   "execution_count": null,
   "metadata": {},
   "outputs": [],
   "source": [
    "-- total amount of chartevents = 330712483\n",
    "/*    \n",
    "SELECT COUNT(*)\n",
    "FROM chartevents;\n",
    "*/\n",
    "\n",
    "-- confirming itemid for the following features \n",
    "-- arterial pressure (53), blood glucose (50809), heart rate (220045), hospital mortality (226893), apacheIV- mortality \n",
    "-- prediction (226994)\n",
    "/* \n",
    "SELECT * FROM d_items\n",
    "WHERE itemid IN (53, 50809, 220045, 226893, 226994);\n",
    "*/ \n",
    "\n",
    "-- total amount of events from chartevents with itemid features = 2762411\n",
    "/*\n",
    "SELECT COUNT(*) FROM CHARTEVENTS \n",
    "WHERE itemid IN (53, 50809, 220045, 226893, 226994);\n",
    "*/\n",
    "\n",
    "--filtering for itemid features from chartevents \n",
    "SELECT * FROM CHARTEVENTS \n",
    "WHERE itemid IN (53, 50809, 220045, 226893, 226994);\n",
    "\n",
    "\n",
    "-- retreiving patients first admit age from admissions and combining with patients \n",
    "/*\n",
    "WITH first_admission_time AS\n",
    "(\n",
    "  SELECT\n",
    "      p.subject_id, p.dob, p.gender\n",
    "      , MIN (a.admittime) AS first_admittime\n",
    "      , MIN( ROUND( (cast(admittime as date) - cast(dob as date)) / 365.242,2) )\n",
    "          AS first_admit_age\n",
    "  FROM patients p\n",
    "  INNER JOIN admissions a\n",
    "  ON p.subject_id = a.subject_id\n",
    "  GROUP BY p.subject_id, p.dob, p.gender\n",
    "  ORDER BY p.subject_id\n",
    ")\n",
    "SELECT\n",
    "    subject_id, dob, gender, first_admittime, first_admit_age, \n",
    "CASE\n",
    "        -- all ages > 89 in the database were replaced with 300\n",
    "        WHEN first_admit_age > 89\n",
    "            then '>89'\n",
    "        WHEN first_admit_age >= 14\n",
    "            THEN 'adult'\n",
    "        WHEN first_admit_age <= 1\n",
    "            THEN 'neonate'\n",
    "        ELSE 'middle'\n",
    "        END AS age_group\n",
    "FROM first_admission_time\n",
    "ORDER BY subject_id\n",
    "*/"
   ]
  },
  {
   "cell_type": "code",
   "execution_count": null,
   "metadata": {},
   "outputs": [],
   "source": [
    "-- without filtering in itemid\n",
    "/*\n",
    "SELECT l.subject_id, l.hadm_id, l.itemid, a.hospital_expire_flag\n",
    "FROM labevents l\n",
    "RIGHT JOIN admissions a \n",
    "ON a.hadm_id = l.hadm_id\n",
    "*/"
   ]
  }
 ],
 "metadata": {
  "kernelspec": {
   "display_name": "Python 3",
   "language": "python",
   "name": "python3"
  },
  "language_info": {
   "codemirror_mode": {
    "name": "ipython",
    "version": 3
   },
   "file_extension": ".py",
   "mimetype": "text/x-python",
   "name": "python",
   "nbconvert_exporter": "python",
   "pygments_lexer": "ipython3",
   "version": "3.7.3"
  }
 },
 "nbformat": 4,
 "nbformat_minor": 2
}
